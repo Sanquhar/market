{
 "cells": [
  {
   "cell_type": "markdown",
   "id": "8f28857e-2eea-4320-8f35-a0e07f292f99",
   "metadata": {},
   "source": [
    "# exploration"
   ]
  },
  {
   "cell_type": "code",
   "execution_count": 72,
   "id": "c40eb9c1-fb67-4954-b26d-c72bd9de789e",
   "metadata": {},
   "outputs": [],
   "source": [
    "import pandas as pd\n",
    "import yfinance as yf\n",
    "import numpy as np"
   ]
  },
  {
   "cell_type": "code",
   "execution_count": 61,
   "id": "eb091cd8-4b01-4971-92cf-0d04184acf49",
   "metadata": {},
   "outputs": [],
   "source": [
    "def get_stock(ticker_symbol : str, period : str = \"max\") -> pd.DataFrame:\n",
    "    ticker = yf.Ticker(ticker_symbol)\n",
    "    historical_data = ticker.history(period=period)\n",
    "    return historical_data\n",
    "\n",
    "def pos_var_year(data : pd.DataFrame) -> float:\n",
    "    close = data[\"Close\"].copy()\n",
    "    start = close.values[0]\n",
    "    end = close.values[-1]\n",
    "    var_year = round(1 + end / start,2)  \n",
    "    return var_year"
   ]
  },
  {
   "cell_type": "code",
   "execution_count": 62,
   "id": "83ac5179-77dc-4310-bfa7-b491b0e871ac",
   "metadata": {},
   "outputs": [],
   "source": [
    "ticker_symbols = [\n",
    "    \"TSLA\", # Tesla\n",
    "    \"AAPL\", # Apple\n",
    "    \"NVDA\", # Nvidia\n",
    "]"
   ]
  },
  {
   "cell_type": "code",
   "execution_count": 63,
   "id": "45d0ab7d-0f75-4ee9-bb2c-be1f8fa70bee",
   "metadata": {},
   "outputs": [],
   "source": [
    "# for ticker_symbol in ticker_symbols:\n",
    "#     data = get_stock(ticker_symbol)"
   ]
  },
  {
   "cell_type": "code",
   "execution_count": 83,
   "id": "1e16f7b9-701f-4625-8d0d-91264d6ea46b",
   "metadata": {},
   "outputs": [],
   "source": [
    "data = get_stock(\"TSLA\",\"1y\")"
   ]
  },
  {
   "cell_type": "code",
   "execution_count": 65,
   "id": "fd7d5979-d340-4fc2-b7d8-9a0df41a0625",
   "metadata": {},
   "outputs": [],
   "source": [
    "close = data[\"Close\"]\n",
    "start = close.values[0]\n",
    "end = close.values[-1]"
   ]
  },
  {
   "cell_type": "code",
   "execution_count": 70,
   "id": "59d8f007-a3c0-4536-ad7f-b57666d11915",
   "metadata": {},
   "outputs": [
    {
     "data": {
      "text/plain": [
       "Date\n",
       "2023-09-14 00:00:00-04:00         NaN\n",
       "2023-09-15 00:00:00-04:00   -1.649994\n",
       "2023-09-18 00:00:00-04:00   -9.110016\n",
       "2023-09-19 00:00:00-04:00    1.220001\n",
       "2023-09-20 00:00:00-04:00   -3.910004\n",
       "                               ...   \n",
       "2024-09-09 00:00:00-04:00    5.540009\n",
       "2024-09-10 00:00:00-04:00    9.899994\n",
       "2024-09-11 00:00:00-04:00    1.960007\n",
       "2024-09-12 00:00:00-04:00    1.679993\n",
       "2024-09-13 00:00:00-04:00    0.479996\n",
       "Name: Close, Length: 252, dtype: float64"
      ]
     },
     "execution_count": 70,
     "metadata": {},
     "output_type": "execute_result"
    }
   ],
   "source": [
    "close.diff()"
   ]
  },
  {
   "cell_type": "code",
   "execution_count": 67,
   "id": "d6bb54f1-1f7a-4aed-b6da-47f0c9b79a91",
   "metadata": {},
   "outputs": [
    {
     "data": {
      "text/plain": [
       "1.83"
      ]
     },
     "execution_count": 67,
     "metadata": {},
     "output_type": "execute_result"
    }
   ],
   "source": [
    "pos_var_year(data)"
   ]
  }
 ],
 "metadata": {
  "kernelspec": {
   "display_name": "Python 3 (ipykernel)",
   "language": "python",
   "name": "python3"
  },
  "language_info": {
   "codemirror_mode": {
    "name": "ipython",
    "version": 3
   },
   "file_extension": ".py",
   "mimetype": "text/x-python",
   "name": "python",
   "nbconvert_exporter": "python",
   "pygments_lexer": "ipython3",
   "version": "3.12.2"
  }
 },
 "nbformat": 4,
 "nbformat_minor": 5
}
